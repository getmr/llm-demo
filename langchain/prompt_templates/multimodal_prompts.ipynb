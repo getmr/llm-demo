{
 "cells": [
  {
   "cell_type": "markdown",
   "metadata": {},
   "source": [
    "# 如何使用多模态提示\n"
   ]
  },
  {
   "cell_type": "code",
   "execution_count": 1,
   "metadata": {},
   "outputs": [],
   "source": [
    "from langchain_core.prompts import ChatPromptTemplate\n",
    "\n",
    "# Define prompt\n",
    "prompt = ChatPromptTemplate(\n",
    "    [\n",
    "        {\n",
    "            \"role\": \"system\",\n",
    "            \"content\": \"Describe the image provided.\",\n",
    "        },\n",
    "        {\n",
    "            \"role\": \"user\",\n",
    "            \"content\": [\n",
    "                {\n",
    "                    \"type\": \"image\",\n",
    "                    \"source_type\": \"url\",\n",
    "                    \"url\": \"{image_url}\",\n",
    "                },\n",
    "            ],\n",
    "        },\n",
    "    ]\n",
    ")"
   ]
  },
  {
   "cell_type": "code",
   "execution_count": 3,
   "metadata": {},
   "outputs": [
    {
     "name": "stdout",
     "output_type": "stream",
     "text": [
      "This image shows a beautiful wooden boardwalk cutting through a lush green marshland or wetland area. The boardwalk extends straight ahead toward the horizon, creating a strong leading line through the composition. On either side, tall green grasses and marsh plants grow abundantly. In the background, there are trees and bushes lining the horizon, and above, a dramatic blue sky filled with wispy white clouds stretches across the scene. The lighting suggests this photo was taken during the \"golden hour\" - either early morning or late afternoon - as there's a warm, golden quality to the light on the vegetation. The wooden planks of the boardwalk appear to be well-maintained and provide safe passage through what would otherwise be difficult terrain to traverse. This is likely part of a nature preserve or protected wetland area where visitors can observe the natural ecosystem without disturbing it.\n"
     ]
    }
   ],
   "source": [
    "from langchain.chat_models import init_chat_model\n",
    "\n",
    "llm = init_chat_model(\"anthropic:claude-3-5-sonnet-latest\")\n",
    "\n",
    "url = \"https://upload.wikimedia.org/wikipedia/commons/thumb/d/dd/Gfp-wisconsin-madison-the-nature-boardwalk.jpg/2560px-Gfp-wisconsin-madison-the-nature-boardwalk.jpg\"\n",
    "\n",
    "chain = prompt | llm\n",
    "response = chain.invoke({\"image_url\": url})\n",
    "print(response.text())"
   ]
  },
  {
   "cell_type": "code",
   "execution_count": 4,
   "metadata": {},
   "outputs": [],
   "source": [
    "prompt = ChatPromptTemplate(\n",
    "    [\n",
    "        {\n",
    "            \"role\": \"system\",\n",
    "            \"content\": \"Describe the image provided.\",\n",
    "        },\n",
    "        {\n",
    "            \"role\": \"user\",\n",
    "            \"content\": [\n",
    "                {\n",
    "                    \"type\": \"image\",\n",
    "                    \"source_type\": \"base64\",\n",
    "                    \"mime_type\": \"{image_mime_type}\",\n",
    "                    \"data\": \"{image_data}\",\n",
    "                    \"cache_control\": {\"type\": \"{cache_type}\"},\n",
    "                },\n",
    "            ],\n",
    "        },\n",
    "    ]\n",
    ")"
   ]
  },
  {
   "cell_type": "code",
   "execution_count": 5,
   "metadata": {},
   "outputs": [
    {
     "name": "stdout",
     "output_type": "stream",
     "text": [
      "This image shows a beautiful wooden boardwalk cutting through a lush green wetland or marsh area. The boardwalk extends straight ahead toward the horizon, creating a strong leading line through the composition. On either side, tall green grasses and marsh plants grow abundantly. The sky is particularly striking, with wispy cirrus clouds streaking across a bright blue expanse. In the background, you can see a tree line along the horizon. The scene appears to be captured during the golden hour, with warm sunlight bringing out the vibrant colors of the vegetation. The wooden planks of the boardwalk appear weather-worn and grey, providing a nice contrast against the surrounding greenery. This looks like it could be part of a nature preserve or wildlife refuge, designed to allow visitors to experience the wetland ecosystem without disturbing it.\n"
     ]
    }
   ],
   "source": [
    "import base64\n",
    "\n",
    "import httpx\n",
    "\n",
    "image_data = base64.b64encode(httpx.get(url).content).decode(\"utf-8\")\n",
    "\n",
    "chain = prompt | llm\n",
    "response = chain.invoke(\n",
    "    {\n",
    "        \"image_data\": image_data,\n",
    "        \"image_mime_type\": \"image/jpeg\",\n",
    "        \"cache_type\": \"ephemeral\",\n",
    "    }\n",
    ")\n",
    "print(response.text())"
   ]
  }
 ],
 "metadata": {
  "kernelspec": {
   "display_name": ".venv",
   "language": "python",
   "name": "python3"
  },
  "language_info": {
   "codemirror_mode": {
    "name": "ipython",
    "version": 3
   },
   "file_extension": ".py",
   "mimetype": "text/x-python",
   "name": "python",
   "nbconvert_exporter": "python",
   "pygments_lexer": "ipython3",
   "version": "3.12.8"
  }
 },
 "nbformat": 4,
 "nbformat_minor": 2
}
