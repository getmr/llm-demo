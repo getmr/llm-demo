{
 "cells": [
  {
   "cell_type": "markdown",
   "metadata": {},
   "source": [
    "# 在对话中使用例子"
   ]
  },
  {
   "cell_type": "code",
   "execution_count": null,
   "metadata": {},
   "outputs": [
    {
     "name": "stdout",
     "output_type": "stream",
     "text": [
      "https://dashscope.aliyuncs.com/compatible-mode/v1 qwen-plus\n"
     ]
    }
   ],
   "source": [
    "import getpass\n",
    "import os\n",
    "from langchain_deepseek import ChatDeepSeek\n",
    "\n",
    "try:\n",
    "    # load environment variables from .env file (requires `python-dotenv`)\n",
    "    from dotenv import load_dotenv\n",
    "\n",
    "    load_dotenv()\n",
    "except ImportError:\n",
    "    pass\n",
    "\n",
    "os.environ[\"LANGSMITH_TRACING\"] = \"true\"\n",
    "if \"LANGSMITH_API_KEY\" not in os.environ:\n",
    "    os.environ[\"LANGSMITH_API_KEY\"] = getpass.getpass(\n",
    "        prompt=\"Enter your LangSmith API key (optional): \"\n",
    "    )\n",
    "if \"LANGSMITH_PROJECT\" not in os.environ:\n",
    "    os.environ[\"LANGSMITH_PROJECT\"] = getpass.getpass(\n",
    "        prompt='Enter your LangSmith Project Name (default = \"default\"): '\n",
    "    )\n",
    "    if not os.environ.get(\"LANGSMITH_PROJECT\"):\n",
    "        os.environ[\"LANGSMITH_PROJECT\"] = \"default\"\n",
    "if \"OPENAI_API_KEY\" not in os.environ:\n",
    "    os.environ[\"OPENAI_API_KEY\"] = getpass.getpass(\n",
    "        prompt=\"Enter your OpenAI API key (required if using OpenAI): \"\n",
    "    )\n",
    "\n",
    "base_url = os.environ.get(\"BASE_URL\")\n",
    "model_name = os.environ.get(\"MODEL_NAME\")\n",
    "\n",
    "print(base_url, model_name)\n",
    "\n",
    "deepseek_model_name = os.environ.get(\"DEEPSEEK_MODEL_NAME\")\n",
    "\n",
    "llm = ChatDeepSeek(\n",
    "    model=deepseek_model_name,\n",
    "    temperature=0,\n",
    "    max_retries=2,\n",
    "    base_url=base_url,\n",
    ")\n",
    "\n",
    "# 重命名\n",
    "model = llm"
   ]
  },
  {
   "cell_type": "code",
   "execution_count": 3,
   "metadata": {},
   "outputs": [
    {
     "data": {
      "text/plain": [
       "AIMessage(content='Alright, let\\'s tackle the problem: **What is 2 🦜 9?**\\n\\n### Understanding the Problem\\n\\nFirst, we have the expression \"2 🦜 9,\" where the emoji 🦜 (a parrot) is placed between two numbers. This seems to be an operation or function represented by the parrot emoji. Our goal is to determine what mathematical operation or concept the parrot emoji stands for in this context.\\n\\n### Analyzing the Emoji\\n\\nThe emoji 🦜 is a parrot. To find out what it might represent mathematically, let\\'s think about words or concepts associated with parrots that could relate to numbers or operations.\\n\\n1. **Parrot as a Symbol**:\\n   - Parrots are known for mimicking or repeating sounds. This could hint at repetition or copying in some form.\\n   - In mathematics, operations like repetition might relate to exponentiation (repeated multiplication) or concatenation (joining numbers together).\\n\\n2. **Wordplay**:\\n   - \"Parrot\" sounds like \"pair it\" or \"per rot,\" but these don\\'t immediately suggest a mathematical operation.\\n   - Another angle is to consider the word \"parrot\" in other languages or its letters.\\n\\n3. **Alphabet Position**:\\n   - Let\\'s look at the letters in \"parrot\":\\n     - P, A, R, R, O, T\\n   - Assigning each letter its position in the English alphabet:\\n     - P = 16, A = 1, R = 18, R = 18, O = 15, T = 20\\n   - Maybe summing these: 16 + 1 + 18 + 18 + 15 + 20 = 88. Not sure how this helps with 2 and 9.\\n\\n4. **Initial Letters**:\\n   - Taking the first letters or some combination doesn\\'t seem directly applicable.\\n\\n5. **Parrot as \\'Repeat\\'**:\\n   - If we think of a parrot repeating, maybe the operation repeats one of the numbers.\\n   - For 2 🦜 9, could it mean repeat 2 nine times? 222222222 (which is 2 repeated 9 times) or vice versa?\\n   - Alternatively, concatenate 2 and 9: 29 or 92.\\n\\n6. **Exponentiation**:\\n   - Sometimes, operations can represent exponentiation. For example, a^b is a raised to the power of b.\\n   - Could 🦜 represent exponentiation? 2^9 = 512.\\n\\n7. **Other Operations**:\\n   - Addition: 2 + 9 = 11\\n   - Multiplication: 2 * 9 = 18\\n   - Subtraction or division seem less likely without context.\\n\\n### Considering Common Emoji Operations\\n\\nIn some puzzles or contexts, emojis represent operations based on their names or sounds. For example:\\n\\n- 🐱 (cat) might stand for concatenation (\"cat\" sounds like \"concat\").\\n- 🦜 (parrot) might similarly stand for something based on its name.\\n\\nIf we think of \"parrot\" as \"pair rot,\" it\\'s unclear. But \"parrot\" sounding like \"per rot\" – \"per\" can mean division, and \"rot\" could relate to rotation or roots in math.\\n\\nAlternatively, \"parrot\" could be short for \"parity rot\" or similar, but that\\'s speculative.\\n\\n### Exploring Concatenation\\n\\nGiven that parrots repeat, concatenation (joining numbers together) is a strong possibility. So:\\n\\n- 2 🦜 9 could mean concatenate 2 and 9: 29 or 92.\\n- Which one? Typically, operations are left-associative unless specified, so 29 seems more likely.\\n\\nBut is concatenation a standard mathematical operation represented by an emoji? It\\'s possible in certain contexts, especially in puzzles.\\n\\n### Exploring Exponentiation\\n\\nAnother strong candidate is exponentiation, given that parrots repeat, and exponentiation is repeated multiplication.\\n\\n- 2 🦜 9 = 2^9 = 512\\n\\nThis seems like a plausible interpretation, especially since the result is a standard mathematical operation\\'s output.\\n\\n### Testing with Other Numbers\\n\\nTo verify, let\\'s try another pair, say 3 🦜 2.\\n\\n- If 🦜 is concatenation: 32 or 23.\\n- If 🦜 is exponentiation: 3^2 = 9 or 2^3 = 8 (likely 3^2 = 9).\\n\\nExponentiation seems more consistently applicable, as concatenation can be ambiguous (which number comes first).\\n\\n### Considering Mathematical Notation\\n\\nIn math, operations are often represented by symbols that hint at their function. The parrot\\'s repetition suggests exponentiation more than concatenation, as concatenation is more about placing numbers side by side rather than an operation based on repetition.\\n\\n### Conclusion\\n\\nAfter considering various interpretations, the most plausible meaning of the 🦜 emoji in this mathematical context is **exponentiation**. Therefore:\\n\\n**2 🦜 9 = 2^9 = 512**\\n\\n### Final Answer\\n\\n2 🦜 9 equals **512**, where the parrot emoji (🦜) represents exponentiation. Thus, 2 raised to the power of 9 is 512.', additional_kwargs={'refusal': None}, response_metadata={'token_usage': {'completion_tokens': 1098, 'prompt_tokens': 13, 'total_tokens': 1111, 'completion_tokens_details': None, 'prompt_tokens_details': {'audio_tokens': None, 'cached_tokens': 0}, 'prompt_cache_hit_tokens': 0, 'prompt_cache_miss_tokens': 13}, 'model_name': 'deepseek-chat', 'system_fingerprint': 'fp_8802369eaa_prod0425fp8', 'id': '11d41f33-221e-49c7-986c-a7144691d116', 'service_tier': None, 'finish_reason': 'stop', 'logprobs': None}, id='run--b35c2d01-9375-41c9-9ba1-205a442ca261-0', usage_metadata={'input_tokens': 13, 'output_tokens': 1098, 'total_tokens': 1111, 'input_token_details': {'cache_read': 0}, 'output_token_details': {}})"
      ]
     },
     "execution_count": 3,
     "metadata": {},
     "output_type": "execute_result"
    }
   ],
   "source": [
    "llm.invoke(\"What is 2 🦜 9?\")\n",
    "\n"
   ]
  },
  {
   "cell_type": "code",
   "execution_count": 4,
   "metadata": {},
   "outputs": [
    {
     "name": "stdout",
     "output_type": "stream",
     "text": [
      "[HumanMessage(content='2 🦜 2', additional_kwargs={}, response_metadata={}), AIMessage(content='4', additional_kwargs={}, response_metadata={}), HumanMessage(content='2 🦜 3', additional_kwargs={}, response_metadata={}), AIMessage(content='5', additional_kwargs={}, response_metadata={})]\n"
     ]
    }
   ],
   "source": [
    "from langchain_core.prompts import ChatPromptTemplate, FewShotChatMessagePromptTemplate\n",
    "\n",
    "examples = [\n",
    "    {\"input\": \"2 🦜 2\", \"output\": \"4\"},\n",
    "    {\"input\": \"2 🦜 3\", \"output\": \"5\"},\n",
    "]\n",
    "\n",
    "# This is a prompt template used to format each individual example.\n",
    "example_prompt = ChatPromptTemplate.from_messages(\n",
    "    [\n",
    "        (\"human\", \"{input}\"),\n",
    "        (\"ai\", \"{output}\"),\n",
    "    ]\n",
    ")\n",
    "few_shot_prompt = FewShotChatMessagePromptTemplate(\n",
    "    example_prompt=example_prompt,\n",
    "    examples=examples,\n",
    ")\n",
    "\n",
    "print(few_shot_prompt.invoke({}).to_messages())"
   ]
  },
  {
   "cell_type": "code",
   "execution_count": 5,
   "metadata": {},
   "outputs": [],
   "source": [
    "final_prompt = ChatPromptTemplate.from_messages(\n",
    "    [\n",
    "        (\"system\", \"You are a wondrous wizard of math.\"),\n",
    "        few_shot_prompt,\n",
    "        (\"human\", \"{input}\"),\n",
    "    ]\n",
    ")"
   ]
  },
  {
   "cell_type": "code",
   "execution_count": null,
   "metadata": {},
   "outputs": [
    {
     "data": {
      "text/plain": [
       "AIMessage(content=\"Let's figure out the pattern for the 🦜 operator based on the examples you've given:\\n\\nGiven:\\n- 2 🦜 2 = 4\\n- 2 🦜 3 = 5\\n\\nLet's see if we can find a relationship between the inputs and outputs.\\n\\n### Possible Pattern 1: Addition with an offset\\n- 2 🦜 2 = 2 + 2 = 4 (no offset)\\n- 2 🦜 3 = 2 + 3 = 5 (no offset)\\n\\nIf this is the case, then 2 🦜 9 = 2 + 9 = 11.\\n\\nBut let's check if this holds for other possible inputs. For example:\\n- 3 🦜 3 = 3 + 3 = 6\\n- 1 🦜 5 = 1 + 5 = 6\\n\\nThis seems consistent, but let's see if there are other possible patterns.\\n\\n### Possible Pattern 2: Multiplication minus something\\n- 2 🦜 2 = 2 * 2 = 4 (matches)\\n- 2 🦜 3 = 2 * 3 - 1 = 5 (but why subtract 1?)\\n\\nThis seems less likely because the subtraction isn't consistent.\\n\\n### Possible Pattern 3: Exponentiation or other operations\\n- 2 🦜 2 = 2^2 = 4 (matches)\\n- 2 🦜 3 = 2^3 = 8 ≠ 5 (doesn't match)\\n\\nSo exponentiation doesn't fit.\\n\\n### Conclusion:\\nThe simplest and most consistent pattern is addition:\\na 🦜 b = a + b.\\n\\nThus:\\n2 🦜 9 = 2 + 9 = 11.\\n\\n### Final Answer:\\n11\", additional_kwargs={'refusal': None}, response_metadata={'token_usage': {'completion_tokens': 379, 'prompt_tokens': 42, 'total_tokens': 421, 'completion_tokens_details': None, 'prompt_tokens_details': {'audio_tokens': None, 'cached_tokens': 0}, 'prompt_cache_hit_tokens': 0, 'prompt_cache_miss_tokens': 42}, 'model_name': 'deepseek-chat', 'system_fingerprint': 'fp_8802369eaa_prod0425fp8', 'id': '9ec997c0-12a6-4bfa-829d-a5e02b827731', 'service_tier': None, 'finish_reason': 'stop', 'logprobs': None}, id='run--caf621b0-1615-4e46-b4dd-8bcc9f25d22c-0', usage_metadata={'input_tokens': 42, 'output_tokens': 379, 'total_tokens': 421, 'input_token_details': {'cache_read': 0}, 'output_token_details': {}})"
      ]
     },
     "execution_count": 7,
     "metadata": {},
     "output_type": "execute_result"
    }
   ],
   "source": [
    "chain = final_prompt | llm\n",
    "chain.invoke({\"input\": \"What is 2 🦜 9?\"})\n"
   ]
  },
  {
   "cell_type": "code",
   "execution_count": 12,
   "metadata": {},
   "outputs": [
    {
     "name": "stdout",
     "output_type": "stream",
     "text": [
      "Let's figure out the pattern for the operation 🦜 based on the examples you've given:\n",
      "\n",
      "1. **Given Examples:**\n",
      "   - 2 🦜 2 = 4\n",
      "   - 2 🦜 3 = 5\n",
      "\n",
      "2. **Possible Patterns:**\n",
      "   - **Addition:** 2 + 2 = 4, and 2 + 3 = 5. This fits the given examples.\n",
      "   - **Other Operations:** Multiplication (2 × 2 = 4, but 2 × 3 = 6 ≠ 5) doesn't fit the second example. Similarly, exponentiation or other operations don't match both examples.\n",
      "\n",
      "3. **Testing the Pattern:**\n",
      "   - If 🦜 represents addition (+), then:\n",
      "     - 2 🦜 9 = 2 + 9 = 11.\n",
      "\n",
      "4. **Conclusion:**\n",
      "   - The operation 🦜 appears to be standard addition.\n",
      "\n",
      "**Final Answer:**  \n",
      "2 🦜 9 = **11**"
     ]
    }
   ],
   "source": [
    "for chun in chain.stream({\"input\": \"What is 2 🦜 9?\"}):\n",
    "    print(chun.content, end=\"\", flush=True)"
   ]
  }
 ],
 "metadata": {
  "kernelspec": {
   "display_name": ".venv",
   "language": "python",
   "name": "python3"
  },
  "language_info": {
   "codemirror_mode": {
    "name": "ipython",
    "version": 3
   },
   "file_extension": ".py",
   "mimetype": "text/x-python",
   "name": "python",
   "nbconvert_exporter": "python",
   "pygments_lexer": "ipython3",
   "version": "3.12.8"
  }
 },
 "nbformat": 4,
 "nbformat_minor": 2
}
