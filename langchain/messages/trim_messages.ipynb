{
 "cells": [
  {
   "cell_type": "markdown",
   "metadata": {},
   "source": [
    "# 修剪 messages\n",
    "大模型的上下文窗口是有限的，这就意味着输入的 token 数是有限制的。 如果你的消息非常长或者上下文有非常长的记录，那么你需要去控制输入的长度。\n",
    "这个时候就需要裁剪消息。"
   ]
  },
  {
   "cell_type": "markdown",
   "metadata": {},
   "source": [
    "## 基于token数裁剪"
   ]
  },
  {
   "cell_type": "code",
   "execution_count": 8,
   "metadata": {},
   "outputs": [
    {
     "name": "stdout",
     "output_type": "stream",
     "text": [
      "https://dashscope.aliyuncs.com/compatible-mode/v1 qwen-plus\n"
     ]
    }
   ],
   "source": [
    "import getpass\n",
    "import os\n",
    "\n",
    "try:\n",
    "    # load environment variables from .env file (requires `python-dotenv`)\n",
    "    from dotenv import load_dotenv\n",
    "\n",
    "    load_dotenv()\n",
    "except ImportError:\n",
    "    pass\n",
    "\n",
    "os.environ[\"LANGSMITH_TRACING\"] = \"true\"\n",
    "if \"LANGSMITH_API_KEY\" not in os.environ:\n",
    "    os.environ[\"LANGSMITH_API_KEY\"] = getpass.getpass(\n",
    "        prompt=\"Enter your LangSmith API key (optional): \"\n",
    "    )\n",
    "if \"LANGSMITH_PROJECT\" not in os.environ:\n",
    "    os.environ[\"LANGSMITH_PROJECT\"] = getpass.getpass(\n",
    "        prompt='Enter your LangSmith Project Name (default = \"default\"): '\n",
    "    )\n",
    "    if not os.environ.get(\"LANGSMITH_PROJECT\"):\n",
    "        os.environ[\"LANGSMITH_PROJECT\"] = \"default\"\n",
    "if \"OPENAI_API_KEY\" not in os.environ:\n",
    "    os.environ[\"OPENAI_API_KEY\"] = getpass.getpass(\n",
    "        prompt=\"Enter your OpenAI API key (required if using OpenAI): \"\n",
    "    )\n",
    "\n",
    "base_url = os.environ.get(\"BASE_URL\")\n",
    "model_name = os.environ.get(\"MODEL_NAME\")\n",
    "\n",
    "print(base_url, model_name)"
   ]
  },
  {
   "cell_type": "code",
   "execution_count": null,
   "metadata": {},
   "outputs": [
    {
     "data": {
      "text/plain": [
       "[SystemMessage(content=\"you're a good assistant, you always respond with a joke.\", additional_kwargs={}, response_metadata={}),\n",
       " HumanMessage(content='what do you call a speechless parrot', additional_kwargs={}, response_metadata={})]"
      ]
     },
     "execution_count": 3,
     "metadata": {},
     "output_type": "execute_result"
    }
   ],
   "source": [
    "from langchain_core.messages import (\n",
    "    AIMessage,\n",
    "    HumanMessage,\n",
    "    SystemMessage,\n",
    "    ToolMessage,\n",
    "    trim_messages,\n",
    ")\n",
    "from langchain_core.messages.utils import count_tokens_approximately\n",
    "\n",
    "messages = [\n",
    "    SystemMessage(\"you're a good assistant, you always respond with a joke.\"),\n",
    "    HumanMessage(\"i wonder why it's called langchain\"),\n",
    "    AIMessage(\n",
    "        'Well, I guess they thought \"WordRope\" and \"SentenceString\" just didn\\'t have the same ring to it!'\n",
    "    ),\n",
    "    HumanMessage(\"and who is harrison chasing anyways\"),\n",
    "    AIMessage(\n",
    "        \"Hmmm let me think.\\n\\nWhy, he's probably chasing after the last cup of coffee in the office!\"\n",
    "    ),\n",
    "    HumanMessage(\"what do you call a speechless parrot\"),\n",
    "]\n",
    "\n",
    "\n",
    "trim_messages(\n",
    "    messages,\n",
    "    # 保留消息中最后 <= n_count 个 token\n",
    "    strategy=\"last\",\n",
    "    # 记得根据您的模型调整\n",
    "    # 或者传入自定义的 token_counter\n",
    "    token_counter=count_tokens_approximately,\n",
    "    # 大多数聊天模型期望聊天历史以以下方式开始：\n",
    "    # (1) 一个 HumanMessage 或\n",
    "    # (2) 一个 SystemMessage 后跟一个 HumanMessage\n",
    "    # 记得根据期望的对话长度进行调整\n",
    "    max_tokens=45,\n",
    "    # 大多数聊天模型期望聊天历史以以下方式开始：\n",
    "    # (1) 一个 HumanMessage 或\n",
    "    # (2) 一个 SystemMessage 后跟一个 HumanMessage\n",
    "    start_on=\"human\",\n",
    "    # 大多数聊天模型期望聊天历史以以下方式结束：\n",
    "    # (1) 一个 HumanMessage 或\n",
    "    # (2) 一个 ToolMessage\n",
    "    end_on=(\"human\", \"tool\"),\n",
    "    # 通常，如果原始历史中存在 SystemMessage，\n",
    "    # 我们希望保留它。\n",
    "    # SystemMessage 包含模型的特殊指令。\n",
    "    include_system=True,\n",
    "    allow_partial=False,\n",
    ")"
   ]
  },
  {
   "cell_type": "markdown",
   "metadata": {},
   "source": [
    "## 基于消息数裁剪\n",
    "另一种方法是根据消息数量来裁剪聊天记录，只需设置 token_counter=len。此时每条消息将被视为单个 token，而 max_tokens 参数将控制允许保留的最大消息数量。\n",
    "\n",
    "当基于消息数量使用 trim_messages 功能时，这是推荐的默认配置。请根据实际需求调整 max_tokens 的数值。"
   ]
  },
  {
   "cell_type": "code",
   "execution_count": 6,
   "metadata": {},
   "outputs": [
    {
     "data": {
      "text/plain": [
       "[SystemMessage(content=\"you're a good assistant, you always respond with a joke.\", additional_kwargs={}, response_metadata={}),\n",
       " HumanMessage(content='and who is harrison chasing anyways', additional_kwargs={}, response_metadata={}),\n",
       " AIMessage(content=\"Hmmm let me think.\\n\\nWhy, he's probably chasing after the last cup of coffee in the office!\", additional_kwargs={}, response_metadata={}),\n",
       " HumanMessage(content='what do you call a speechless parrot', additional_kwargs={}, response_metadata={})]"
      ]
     },
     "execution_count": 6,
     "metadata": {},
     "output_type": "execute_result"
    }
   ],
   "source": [
    "trim_messages(\n",
    "    messages,\n",
    "    # Keep the last <= n_count tokens of the messages.\n",
    "    strategy=\"last\",\n",
    "    token_counter=len,\n",
    "    # When token_counter=len, each message\n",
    "    # will be counted as a single token.\n",
    "    # Remember to adjust for your use case\n",
    "    max_tokens=4,\n",
    "    # Most chat models expect that chat history starts with either:\n",
    "    # (1) a HumanMessage or\n",
    "    # (2) a SystemMessage followed by a HumanMessage\n",
    "    start_on=\"human\",\n",
    "    # Most chat models expect that chat history ends with either:\n",
    "    # (1) a HumanMessage or\n",
    "    # (2) a ToolMessage\n",
    "    end_on=(\"human\", \"tool\"),\n",
    "    # Usually, we want to keep the SystemMessage\n",
    "    # if it's present in the original history.\n",
    "    # The SystemMessage has special instructions for the model.\n",
    "    include_system=True,\n",
    ")"
   ]
  },
  {
   "cell_type": "markdown",
   "metadata": {},
   "source": [
    "使用模型统计 token"
   ]
  },
  {
   "cell_type": "code",
   "execution_count": null,
   "metadata": {},
   "outputs": [
    {
     "data": {
      "text/plain": [
       "[SystemMessage(content=\"you're a good assistant, you always respond with a joke.\", additional_kwargs={}, response_metadata={}),\n",
       " HumanMessage(content=\"i wonder why it's called langchain\", additional_kwargs={}, response_metadata={})]"
      ]
     },
     "execution_count": 9,
     "metadata": {},
     "output_type": "execute_result"
    }
   ],
   "source": [
    "from langchain_openai import ChatOpenAI\n",
    "\n",
    "trim_messages(\n",
    "    messages,\n",
    "    max_tokens=45,\n",
    "    strategy=\"first\",\n",
    "    token_counter=ChatOpenAI(model=\"gpt-4o\"),  # 不会消耗 token\n",
    ")"
   ]
  }
 ],
 "metadata": {
  "kernelspec": {
   "display_name": ".venv",
   "language": "python",
   "name": "python3"
  },
  "language_info": {
   "codemirror_mode": {
    "name": "ipython",
    "version": 3
   },
   "file_extension": ".py",
   "mimetype": "text/x-python",
   "name": "python",
   "nbconvert_exporter": "python",
   "pygments_lexer": "ipython3",
   "version": "3.12.8"
  }
 },
 "nbformat": 4,
 "nbformat_minor": 2
}
