{
 "cells": [
  {
   "cell_type": "code",
   "execution_count": 1,
   "metadata": {},
   "outputs": [
    {
     "name": "stdout",
     "output_type": "stream",
     "text": [
      "https://dashscope.aliyuncs.com/compatible-mode/v1 qwen-plus\n"
     ]
    }
   ],
   "source": [
    "import getpass\n",
    "import os\n",
    "\n",
    "try:\n",
    "    # load environment variables from .env file (requires `python-dotenv`)\n",
    "    from dotenv import load_dotenv\n",
    "\n",
    "    load_dotenv()\n",
    "except ImportError:\n",
    "    pass\n",
    "\n",
    "os.environ[\"LANGSMITH_TRACING\"] = \"true\"\n",
    "if \"LANGSMITH_API_KEY\" not in os.environ:\n",
    "    os.environ[\"LANGSMITH_API_KEY\"] = getpass.getpass(\n",
    "        prompt=\"Enter your LangSmith API key (optional): \"\n",
    "    )\n",
    "if \"LANGSMITH_PROJECT\" not in os.environ:\n",
    "    os.environ[\"LANGSMITH_PROJECT\"] = getpass.getpass(\n",
    "        prompt='Enter your LangSmith Project Name (default = \"default\"): '\n",
    "    )\n",
    "    if not os.environ.get(\"LANGSMITH_PROJECT\"):\n",
    "        os.environ[\"LANGSMITH_PROJECT\"] = \"default\"\n",
    "if \"OPENAI_API_KEY\" not in os.environ:\n",
    "    os.environ[\"OPENAI_API_KEY\"] = getpass.getpass(\n",
    "        prompt=\"Enter your OpenAI API key (required if using OpenAI): \"\n",
    "    )\n",
    "\n",
    "base_url = os.environ.get(\"BASE_URL\")\n",
    "model_name = os.environ.get(\"MODEL_NAME\")\n",
    "deepseek_model_name = os.environ.get(\"DEEPSEEK_MODEL_NAME\")\n",
    "\n",
    "print(base_url, model_name)"
   ]
  },
  {
   "cell_type": "code",
   "execution_count": 2,
   "metadata": {},
   "outputs": [],
   "source": [
    "from langchain_deepseek import ChatDeepSeek\n",
    "\n",
    "\n",
    "llm = ChatDeepSeek(\n",
    "    model=deepseek_model_name,\n",
    "    temperature=0,\n",
    "    max_retries=2,\n",
    "    base_url=base_url,\n",
    ")"
   ]
  },
  {
   "cell_type": "code",
   "execution_count": 10,
   "metadata": {},
   "outputs": [],
   "source": [
    "chat = llm"
   ]
  },
  {
   "cell_type": "markdown",
   "metadata": {},
   "source": [
    "## Sync streaming "
   ]
  },
  {
   "cell_type": "code",
   "execution_count": 6,
   "metadata": {},
   "outputs": [
    {
     "name": "stdout",
     "output_type": "stream",
     "text": [
      "**\"Goldfish on the Moon\"**  \n",
      "\n",
      "*(Verse 1)*  \n",
      "Tiny fins in zero-G, floating past the stars,  \n",
      "Goldfish dreams in lunar beams inside their jelly jars.  \n",
      "No one knows how they got there—maybe rockets flew,  \n",
      "Dancing slow in moonbeam glow, sipping astronaut stew.  \n",
      "\n",
      "*(Optional Chorus Hook)*  \n",
      "🎶 *Goldfish on the moon, they don’t need a tune,*  \n",
      "*Just a bubble helmet and a big balloon!* 🎶  \n",
      "\n",
      "*(Instrumental twinkle sounds encouraged.)*  \n",
      "\n",
      "Let me know if you'd like a sad version (🌑💔 *\"One Giant Leap for Fishkind\"*) or a dubstep remix. 🚀🐟"
     ]
    }
   ],
   "source": [
    "for chunk in llm.stream(\"Write me a 1 verse song about goldfish on the moon\"):\n",
    "    print(chunk.content, end=\"\", flush=True)"
   ]
  },
  {
   "cell_type": "markdown",
   "metadata": {},
   "source": [
    "## Async streaming "
   ]
  },
  {
   "cell_type": "code",
   "execution_count": 8,
   "metadata": {},
   "outputs": [
    {
     "name": "stdout",
     "output_type": "stream",
     "text": [
      "**\"Goldfish on the Moon\"**  \n",
      "\n",
      "*(Verse 1)*  \n",
      "Tiny fins in zero-G, floating past the stars,  \n",
      "Goldfish dreams in lunar beams inside a jelly jar.  \n",
      "No one knows how they got there—maybe rockets flew,  \n",
      "But they swim through moonlit tides in a sky of blue.  \n",
      "\n",
      "*(Optional Chorus Hook)*  \n",
      "*Ooooh, goldfish on the moon,*  \n",
      "*Dancing slow to a weightless tune...*  \n",
      "\n",
      "*(End on a dreamy riff!)*  \n",
      "\n",
      "Let me know if you'd like a full song—this was fun! �🐠🌙"
     ]
    }
   ],
   "source": [
    "async for chunk in llm.astream(\"Write me a 1 verse song about goldfish on the moon\"):\n",
    "    print(chunk.content, end=\"\", flush=True)"
   ]
  },
  {
   "cell_type": "markdown",
   "metadata": {},
   "source": [
    "## Astream events\n",
    "当需要获取流式输出的原始内容使用"
   ]
  },
  {
   "cell_type": "code",
   "execution_count": 9,
   "metadata": {},
   "outputs": [
    {
     "name": "stdout",
     "output_type": "stream",
     "text": [
      "{'event': 'on_chat_model_start', 'data': {'input': 'Write me a 1 verse song about goldfish on the moon'}, 'name': 'ChatDeepSeek', 'tags': [], 'run_id': '8976008d-d9b7-4c0b-b768-556b226cbe75', 'metadata': {'ls_provider': 'openai', 'ls_model_name': 'deepseek-chat', 'ls_model_type': 'chat', 'ls_temperature': 0.0}, 'parent_ids': []}\n",
      "{'event': 'on_chat_model_stream', 'run_id': '8976008d-d9b7-4c0b-b768-556b226cbe75', 'name': 'ChatDeepSeek', 'tags': [], 'metadata': {'ls_provider': 'openai', 'ls_model_name': 'deepseek-chat', 'ls_model_type': 'chat', 'ls_temperature': 0.0}, 'data': {'chunk': AIMessageChunk(content='', additional_kwargs={}, response_metadata={}, id='run--8976008d-d9b7-4c0b-b768-556b226cbe75')}, 'parent_ids': []}\n",
      "{'event': 'on_chat_model_stream', 'run_id': '8976008d-d9b7-4c0b-b768-556b226cbe75', 'name': 'ChatDeepSeek', 'tags': [], 'metadata': {'ls_provider': 'openai', 'ls_model_name': 'deepseek-chat', 'ls_model_type': 'chat', 'ls_temperature': 0.0}, 'data': {'chunk': AIMessageChunk(content='**', additional_kwargs={}, response_metadata={}, id='run--8976008d-d9b7-4c0b-b768-556b226cbe75')}, 'parent_ids': []}\n",
      "{'event': 'on_chat_model_stream', 'run_id': '8976008d-d9b7-4c0b-b768-556b226cbe75', 'name': 'ChatDeepSeek', 'tags': [], 'metadata': {'ls_provider': 'openai', 'ls_model_name': 'deepseek-chat', 'ls_model_type': 'chat', 'ls_temperature': 0.0}, 'data': {'chunk': AIMessageChunk(content='\"', additional_kwargs={}, response_metadata={}, id='run--8976008d-d9b7-4c0b-b768-556b226cbe75')}, 'parent_ids': []}\n",
      "...Truncated\n"
     ]
    }
   ],
   "source": [
    "idx = 0\n",
    "\n",
    "async for event in llm.astream_events(\n",
    "    \"Write me a 1 verse song about goldfish on the moon\"\n",
    "):\n",
    "    idx += 1\n",
    "    if idx >= 5:  # Truncate the output\n",
    "        print(\"...Truncated\")\n",
    "        break\n",
    "    print(event)"
   ]
  }
 ],
 "metadata": {
  "kernelspec": {
   "display_name": ".venv",
   "language": "python",
   "name": "python3"
  },
  "language_info": {
   "codemirror_mode": {
    "name": "ipython",
    "version": 3
   },
   "file_extension": ".py",
   "mimetype": "text/x-python",
   "name": "python",
   "nbconvert_exporter": "python",
   "pygments_lexer": "ipython3",
   "version": "3.12.8"
  }
 },
 "nbformat": 4,
 "nbformat_minor": 2
}
