{
 "cells": [
  {
   "cell_type": "code",
   "execution_count": 1,
   "metadata": {},
   "outputs": [
    {
     "name": "stdout",
     "output_type": "stream",
     "text": [
      "https://dashscope.aliyuncs.com/compatible-mode/v1 qwen-plus\n"
     ]
    }
   ],
   "source": [
    "import getpass\n",
    "import os\n",
    "\n",
    "try:\n",
    "    # load environment variables from .env file (requires `python-dotenv`)\n",
    "    from dotenv import load_dotenv\n",
    "\n",
    "    load_dotenv()\n",
    "except ImportError:\n",
    "    pass\n",
    "\n",
    "os.environ[\"LANGSMITH_TRACING\"] = \"true\"\n",
    "if \"LANGSMITH_API_KEY\" not in os.environ:\n",
    "    os.environ[\"LANGSMITH_API_KEY\"] = getpass.getpass(\n",
    "        prompt=\"Enter your LangSmith API key (optional): \"\n",
    "    )\n",
    "if \"LANGSMITH_PROJECT\" not in os.environ:\n",
    "    os.environ[\"LANGSMITH_PROJECT\"] = getpass.getpass(\n",
    "        prompt='Enter your LangSmith Project Name (default = \"default\"): '\n",
    "    )\n",
    "    if not os.environ.get(\"LANGSMITH_PROJECT\"):\n",
    "        os.environ[\"LANGSMITH_PROJECT\"] = \"default\"\n",
    "if \"OPENAI_API_KEY\" not in os.environ:\n",
    "    os.environ[\"OPENAI_API_KEY\"] = getpass.getpass(\n",
    "        prompt=\"Enter your OpenAI API key (required if using OpenAI): \"\n",
    "    )\n",
    "\n",
    "base_url = os.environ.get(\"BASE_URL\")\n",
    "model_name = os.environ.get(\"MODEL_NAME\")\n",
    "deepseek_model_name = os.environ.get(\"DEEPSEEK_MODEL_NAME\")\n",
    "\n",
    "print(base_url, model_name)"
   ]
  },
  {
   "cell_type": "code",
   "execution_count": 4,
   "metadata": {},
   "outputs": [],
   "source": [
    "from langchain_deepseek import ChatDeepSeek\n",
    "\n",
    "\n",
    "model = ChatDeepSeek(\n",
    "    model=deepseek_model_name,\n",
    "    temperature=0,\n",
    "    max_retries=2,\n",
    "    base_url=base_url,\n",
    ")"
   ]
  },
  {
   "cell_type": "code",
   "execution_count": 5,
   "metadata": {},
   "outputs": [
    {
     "data": {
      "text/plain": [
       "Joke(setup=\"Why don't scientists trust atoms?\", punchline='Because they make up everything!')"
      ]
     },
     "execution_count": 5,
     "metadata": {},
     "output_type": "execute_result"
    }
   ],
   "source": [
    "from pydantic import BaseModel, Field, model_validator\n",
    "from langchain_core.output_parsers import PydanticOutputParser\n",
    "from langchain_core.prompts import PromptTemplate\n",
    "\n",
    "\n",
    "# Define your desired data structure.\n",
    "class Joke(BaseModel):\n",
    "    setup: str = Field(description=\"question to set up a joke\")\n",
    "    punchline: str = Field(description=\"answer to resolve the joke\")\n",
    "\n",
    "    # You can add custom validation logic easily with Pydantic.\n",
    "    @model_validator(mode=\"before\")\n",
    "    @classmethod\n",
    "    def question_ends_with_question_mark(cls, values: dict) -> dict:\n",
    "        setup = values.get(\"setup\")\n",
    "        if setup and setup[-1] != \"?\":\n",
    "            raise ValueError(\"Badly formed question!\")\n",
    "        return values\n",
    "\n",
    "\n",
    "# Set up a parser + inject instructions into the prompt template.\n",
    "parser = PydanticOutputParser(pydantic_object=Joke)\n",
    "\n",
    "prompt = PromptTemplate(\n",
    "    template=\"Answer the user query.\\n{format_instructions}\\n{query}\\n\",\n",
    "    input_variables=[\"query\"],\n",
    "    partial_variables={\"format_instructions\": parser.get_format_instructions()},\n",
    ")\n",
    "\n",
    "# And a query intended to prompt a language model to populate the data structure.\n",
    "prompt_and_model = prompt | model\n",
    "output = prompt_and_model.invoke({\"query\": \"Tell me a joke.\"})\n",
    "parser.invoke(output)"
   ]
  },
  {
   "cell_type": "markdown",
   "metadata": {},
   "source": [
    "# 使用链式"
   ]
  },
  {
   "cell_type": "code",
   "execution_count": 6,
   "metadata": {},
   "outputs": [
    {
     "data": {
      "text/plain": [
       "Joke(setup=\"Why don't scientists trust atoms?\", punchline='Because they make up everything!')"
      ]
     },
     "execution_count": 6,
     "metadata": {},
     "output_type": "execute_result"
    }
   ],
   "source": [
    "chain = prompt | model | parser\n",
    "chain.invoke({\"query\": \"Tell me a joke.\"})"
   ]
  },
  {
   "cell_type": "markdown",
   "metadata": {},
   "source": [
    "## 使用 SimpleJsonOutputParser"
   ]
  },
  {
   "cell_type": "code",
   "execution_count": 7,
   "metadata": {},
   "outputs": [],
   "source": [
    "from langchain.output_parsers.json import SimpleJsonOutputParser\n",
    "\n",
    "json_prompt = PromptTemplate.from_template(\n",
    "    \"Return a JSON object with an `answer` key that answers the following question: {question}\"\n",
    ")\n",
    "json_parser = SimpleJsonOutputParser()\n",
    "json_chain = json_prompt | model | json_parser"
   ]
  },
  {
   "cell_type": "code",
   "execution_count": 8,
   "metadata": {},
   "outputs": [
    {
     "data": {
      "text/plain": [
       "[{},\n",
       " {'answer': ''},\n",
       " {'answer': 'The'},\n",
       " {'answer': 'The microscope'},\n",
       " {'answer': 'The microscope was'},\n",
       " {'answer': 'The microscope was invented'},\n",
       " {'answer': 'The microscope was invented by'},\n",
       " {'answer': 'The microscope was invented by Zach'},\n",
       " {'answer': 'The microscope was invented by Zacharias'},\n",
       " {'answer': 'The microscope was invented by Zacharias Jans'},\n",
       " {'answer': 'The microscope was invented by Zacharias Janssen'},\n",
       " {'answer': 'The microscope was invented by Zacharias Janssen,'},\n",
       " {'answer': 'The microscope was invented by Zacharias Janssen, a'},\n",
       " {'answer': 'The microscope was invented by Zacharias Janssen, a Dutch'},\n",
       " {'answer': 'The microscope was invented by Zacharias Janssen, a Dutch spectacle'},\n",
       " {'answer': 'The microscope was invented by Zacharias Janssen, a Dutch spectacle maker'},\n",
       " {'answer': 'The microscope was invented by Zacharias Janssen, a Dutch spectacle maker,'},\n",
       " {'answer': 'The microscope was invented by Zacharias Janssen, a Dutch spectacle maker, around'},\n",
       " {'answer': 'The microscope was invented by Zacharias Janssen, a Dutch spectacle maker, around the'},\n",
       " {'answer': 'The microscope was invented by Zacharias Janssen, a Dutch spectacle maker, around the year'},\n",
       " {'answer': 'The microscope was invented by Zacharias Janssen, a Dutch spectacle maker, around the year 159'},\n",
       " {'answer': 'The microscope was invented by Zacharias Janssen, a Dutch spectacle maker, around the year 1590'},\n",
       " {'answer': 'The microscope was invented by Zacharias Janssen, a Dutch spectacle maker, around the year 1590.'}]"
      ]
     },
     "execution_count": 8,
     "metadata": {},
     "output_type": "execute_result"
    }
   ],
   "source": [
    "list(json_chain.stream({\"question\": \"Who invented the microscope?\"}))"
   ]
  },
  {
   "cell_type": "code",
   "execution_count": 9,
   "metadata": {},
   "outputs": [
    {
     "data": {
      "text/plain": [
       "[Joke(setup=\"Why don't scientists trust atoms?\", punchline=''),\n",
       " Joke(setup=\"Why don't scientists trust atoms?\", punchline='Because'),\n",
       " Joke(setup=\"Why don't scientists trust atoms?\", punchline='Because they'),\n",
       " Joke(setup=\"Why don't scientists trust atoms?\", punchline='Because they make'),\n",
       " Joke(setup=\"Why don't scientists trust atoms?\", punchline='Because they make up'),\n",
       " Joke(setup=\"Why don't scientists trust atoms?\", punchline='Because they make up everything'),\n",
       " Joke(setup=\"Why don't scientists trust atoms?\", punchline='Because they make up everything!')]"
      ]
     },
     "execution_count": 9,
     "metadata": {},
     "output_type": "execute_result"
    }
   ],
   "source": [
    "list(chain.stream({\"query\": \"Tell me a joke.\"}))\n",
    "\n"
   ]
  }
 ],
 "metadata": {
  "kernelspec": {
   "display_name": ".venv",
   "language": "python",
   "name": "python3"
  },
  "language_info": {
   "codemirror_mode": {
    "name": "ipython",
    "version": 3
   },
   "file_extension": ".py",
   "mimetype": "text/x-python",
   "name": "python",
   "nbconvert_exporter": "python",
   "pygments_lexer": "ipython3",
   "version": "3.12.8"
  }
 },
 "nbformat": 4,
 "nbformat_minor": 2
}
