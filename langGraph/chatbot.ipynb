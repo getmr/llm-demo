{
 "cells": [
  {
   "cell_type": "code",
   "execution_count": null,
   "metadata": {},
   "outputs": [],
   "source": [
    "import getpass\n",
    "import os\n",
    "\n",
    "\n",
    "def _set_env(var: str):\n",
    "    if not os.environ.get(var):\n",
    "        os.environ[var] = getpass.getpass(f\"{var}: \")\n",
    "\n",
    "\n",
    "_set_env(\"ANTHROPIC_API_KEY\")\n",
    "print(os.environ.get(\"ANTHROPIC_API_KEY\"))"
   ]
  },
  {
   "cell_type": "code",
   "execution_count": 5,
   "metadata": {},
   "outputs": [],
   "source": [
    "os.environ[\"LANGSMITH_TRACING\"] = \"true\"\n",
    "if \"LANGSMITH_API_KEY\" not in os.environ:\n",
    "    os.environ[\"LANGSMITH_API_KEY\"] = getpass.getpass(\n",
    "        prompt=\"Enter your LangSmith API key (optional): \"\n",
    "    )\n",
    "if \"LANGSMITH_PROJECT\" not in os.environ:\n",
    "    os.environ[\"LANGSMITH_PROJECT\"] = getpass.getpass(\n",
    "        prompt='Enter your LangSmith Project Name (default = \"default\"): '\n",
    "    )\n",
    "    if not os.environ.get(\"LANGSMITH_PROJECT\"):\n",
    "        os.environ[\"LANGSMITH_PROJECT\"] = \"default\""
   ]
  },
  {
   "cell_type": "code",
   "execution_count": 6,
   "metadata": {},
   "outputs": [
    {
     "data": {
      "text/plain": [
       "{'messages': [HumanMessage(content='what is the weather in sf', additional_kwargs={}, response_metadata={}, id='51bcd83c-c7e7-43d0-86f4-534ba6e14286'),\n",
       "  AIMessage(content=[{'text': 'I can help you check the current weather in San Francisco. Let me search for that information for you.', 'type': 'text'}, {'id': 'toolu_01SbQASJyc5xtnXSM8ZmKcYN', 'input': {'query': 'current weather in San Francisco'}, 'name': 'search', 'type': 'tool_use'}], additional_kwargs={}, response_metadata={'id': 'msg_01QFqH5dYdmpNTBKm6xb41su', 'model': 'claude-3-7-sonnet-20250219', 'stop_reason': 'tool_use', 'stop_sequence': None, 'usage': {'cache_creation_input_tokens': 0, 'cache_read_input_tokens': 0, 'input_tokens': 377, 'output_tokens': 77, 'server_tool_use': None}, 'model_name': 'claude-3-7-sonnet-20250219'}, id='run--31c0dc38-267c-44e4-ba92-e09142e40ffb-0', tool_calls=[{'name': 'search', 'args': {'query': 'current weather in San Francisco'}, 'id': 'toolu_01SbQASJyc5xtnXSM8ZmKcYN', 'type': 'tool_call'}], usage_metadata={'input_tokens': 377, 'output_tokens': 77, 'total_tokens': 454, 'input_token_details': {'cache_read': 0, 'cache_creation': 0}}),\n",
       "  ToolMessage(content=\"It's 60 degrees and foggy.\", name='search', id='34b2393d-c8b2-47f9-8d41-d34a42cfb319', tool_call_id='toolu_01SbQASJyc5xtnXSM8ZmKcYN'),\n",
       "  AIMessage(content='Based on my search, the current weather in San Francisco is 60 degrees Fahrenheit and foggy. This is pretty typical weather for San Francisco, which is known for its fog, especially during certain times of the year.', additional_kwargs={}, response_metadata={'id': 'msg_01Sv2U1M642wnUBdHj1KVt1M', 'model': 'claude-3-7-sonnet-20250219', 'stop_reason': 'end_turn', 'stop_sequence': None, 'usage': {'cache_creation_input_tokens': 0, 'cache_read_input_tokens': 0, 'input_tokens': 474, 'output_tokens': 51, 'server_tool_use': None}, 'model_name': 'claude-3-7-sonnet-20250219'}, id='run--1577b901-a6ca-4c15-b7ea-ab60d2c90ad6-0', usage_metadata={'input_tokens': 474, 'output_tokens': 51, 'total_tokens': 525, 'input_token_details': {'cache_read': 0, 'cache_creation': 0}})]}"
      ]
     },
     "execution_count": 6,
     "metadata": {},
     "output_type": "execute_result"
    }
   ],
   "source": [
    "from langgraph.prebuilt import create_react_agent\n",
    "\n",
    "def search(query: str):\n",
    "    \"\"\"Call to surf the web.\"\"\"\n",
    "    if \"sf\" in query.lower() or \"san francisco\" in query.lower():\n",
    "        return \"It's 60 degrees and foggy.\"\n",
    "    return \"It's 90 degrees and sunny.\"\n",
    "\n",
    "agent = create_react_agent(\"anthropic:claude-3-7-sonnet-latest\", tools=[search])\n",
    "agent.invoke(\n",
    "    {\"messages\": [{\"role\": \"user\", \"content\": \"what is the weather in sf\"}]}\n",
    ")"
   ]
  },
  {
   "cell_type": "code",
   "execution_count": 7,
   "metadata": {},
   "outputs": [],
   "source": [
    "from typing import Annotated\n",
    "\n",
    "from typing_extensions import TypedDict\n",
    "\n",
    "from langgraph.graph import StateGraph, START, END\n",
    "from langgraph.graph.message import add_messages\n",
    "\n",
    "\n",
    "class State(TypedDict):\n",
    "    # Messages have the type \"list\". The `add_messages` function\n",
    "    # in the annotation defines how this state key should be updated\n",
    "    # (in this case, it appends messages to the list, rather than overwriting them)\n",
    "    messages: Annotated[list, add_messages]\n",
    "\n",
    "\n",
    "graph_builder = StateGraph(State)\n"
   ]
  },
  {
   "cell_type": "code",
   "execution_count": 8,
   "metadata": {},
   "outputs": [
    {
     "data": {
      "text/plain": [
       "<langgraph.graph.state.StateGraph at 0x129097890>"
      ]
     },
     "execution_count": 8,
     "metadata": {},
     "output_type": "execute_result"
    }
   ],
   "source": [
    "from langchain.chat_models import init_chat_model\n",
    "\n",
    "llm = init_chat_model(\"anthropic:claude-3-5-sonnet-latest\")\n",
    "\n",
    "\n",
    "def chatbot(state: State):\n",
    "    return {\"messages\": [llm.invoke(state[\"messages\"])]}\n",
    "\n",
    "\n",
    "# The first argument is the unique node name\n",
    "# The second argument is the function or object that will be called whenever\n",
    "# the node is used.\n",
    "graph_builder.add_node(\"chatbot\", chatbot)"
   ]
  },
  {
   "cell_type": "code",
   "execution_count": 11,
   "metadata": {},
   "outputs": [],
   "source": [
    "# 添加边\n",
    "graph_builder.add_edge(START, \"chatbot\")\n",
    "graph_builder.add_edge(\"chatbot\", END)\n",
    "\n",
    "# 构建图\n",
    "graph = graph_builder.compile()"
   ]
  },
  {
   "cell_type": "code",
   "execution_count": 12,
   "metadata": {},
   "outputs": [
    {
     "data": {
      "image/png": "[encoded data removed]",
      "text/plain": [
       "<IPython.core.display.Image object>"
      ]
     },
     "metadata": {},
     "output_type": "display_data"
    }
   ],
   "source": [
    "# 画图\n",
    "from IPython.display import Image, display\n",
    "\n",
    "try:\n",
    "    display(Image(graph.get_graph().draw_mermaid_png()))\n",
    "except Exception:\n",
    "    # This requires some extra dependencies and is optional\n",
    "    pass"
   ]
  },
  {
   "cell_type": "code",
   "execution_count": 14,
   "metadata": {},
   "outputs": [
    {
     "data": {
      "text/plain": [
       "{'messages': [HumanMessage(content='what is the weather in sf', additional_kwargs={}, response_metadata={}, id='314b02ef-2202-4cc0-9604-d7117fa44c27'),\n",
       "  AIMessage(content=\"I am not able to provide real-time weather information. To get current weather conditions in San Francisco, I recommend:\\n\\n1. Checking a weather website or app like Weather.com or AccuWeather\\n2. Visiting the National Weather Service website\\n3. Looking up local San Francisco news stations' weather reports\", additional_kwargs={}, response_metadata={'id': 'msg_0125KcbxJTXFxcvA1Qyg6SVo', 'model': 'claude-3-5-sonnet-20241022', 'stop_reason': 'end_turn', 'stop_sequence': None, 'usage': {'cache_creation_input_tokens': 0, 'cache_read_input_tokens': 0, 'input_tokens': 13, 'output_tokens': 69, 'server_tool_use': None}, 'model_name': 'claude-3-5-sonnet-20241022'}, id='run--ce1b66f4-7b1b-46cc-82d0-cb87586250e2-0', usage_metadata={'input_tokens': 13, 'output_tokens': 69, 'total_tokens': 82, 'input_token_details': {'cache_read': 0, 'cache_creation': 0}})]}"
      ]
     },
     "execution_count": 14,
     "metadata": {},
     "output_type": "execute_result"
    }
   ],
   "source": [
    "graph.invoke({\"messages\": [{\"role\": \"user\", \"content\": \"what is the weather in sf\"}]})"
   ]
  },
  {
   "cell_type": "code",
   "execution_count": 15,
   "metadata": {},
   "outputs": [
    {
     "name": "stdout",
     "output_type": "stream",
     "text": [
      "User: What do you know about LangGraph?\n",
      "Assistant: LangGraph is a Python library built on top of LangChain that helps developers create structured, stateful applications using Large Language Models (LLMs). It's particularly useful for building conversational AI applications that require maintaining state and following specific workflows.\n",
      "\n",
      "Key features and concepts of LangGraph include:\n",
      "\n",
      "1. State Machines: It allows you to create state machines to manage conversation flows and application logic\n",
      "\n",
      "2. Graph-based Structure: Uses directed graphs to represent different states and transitions in your application\n",
      "\n",
      "3. Integration with LangChain: Built to work seamlessly with LangChain's components and abstractions\n",
      "\n",
      "4. State Management: Helps maintain conversation context and state across interactions\n",
      "\n",
      "5. Workflow Definition: Enables defining clear workflows for complex conversational scenarios\n",
      "\n",
      "The library is particularly useful for:\n",
      "- Building multi-step conversations\n",
      "- Creating interactive agents\n",
      "- Managing complex dialogue flows\n",
      "- Implementing stateful chatbots\n",
      "- Handling structured decision-making processes\n",
      "\n",
      "It's relatively new and was developed to address some of the limitations in building stateful applications with LLMs.\n",
      "\n",
      "Would you like me to elaborate on any of these aspects or provide specific examples of how LangGraph can be used?\n"
     ]
    }
   ],
   "source": [
    "def stream_graph_updates(user_input: str):\n",
    "    for event in graph.stream({\"messages\": [{\"role\": \"user\", \"content\": user_input}]}):\n",
    "        for value in event.values():\n",
    "            print(\"Assistant:\", value[\"messages\"][-1].content)\n",
    "\n",
    "\n",
    "while True:\n",
    "    try:\n",
    "        user_input = input(\"User: \")\n",
    "        if user_input.lower() in [\"quit\", \"exit\", \"q\"]:\n",
    "            print(\"Goodbye!\")\n",
    "            break\n",
    "        stream_graph_updates(user_input)\n",
    "    except:\n",
    "        # fallback if input() is not available\n",
    "        user_input = \"What do you know about LangGraph?\"\n",
    "        print(\"User: \" + user_input)\n",
    "        stream_graph_updates(user_input)\n",
    "        break"
   ]
  }
 ],
 "metadata": {
  "kernelspec": {
   "display_name": ".venv",
   "language": "python",
   "name": "python3"
  },
  "language_info": {
   "codemirror_mode": {
    "name": "ipython",
    "version": 3
   },
   "file_extension": ".py",
   "mimetype": "text/x-python",
   "name": "python",
   "nbconvert_exporter": "python",
   "pygments_lexer": "ipython3",
   "version": "3.12.8"
  }
 },
 "nbformat": 4,
 "nbformat_minor": 2
}
